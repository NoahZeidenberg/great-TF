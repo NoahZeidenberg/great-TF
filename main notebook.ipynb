{
 "cells": [
  {
   "cell_type": "code",
   "execution_count": 1,
   "metadata": {
    "id": "LWmBDjQ1TESi"
   },
   "outputs": [],
   "source": [
    "# load packages\n",
    "import numpy as np\n",
    "import pandas as pd\n",
    "import matplotlib.pyplot as plt\n",
    "import requests"
   ]
  },
  {
   "cell_type": "markdown",
   "metadata": {
    "id": "m0LWb6r5TJea"
   },
   "source": [
    "# Load Data"
   ]
  },
  {
   "cell_type": "code",
   "execution_count": 2,
   "metadata": {
    "id": "X9HCKN_-FagN"
   },
   "outputs": [],
   "source": [
    "df = pd.read_csv('~/Downloads/interview/Task 1 DNA_sequences.csv')"
   ]
  },
  {
   "cell_type": "code",
   "execution_count": 3,
   "metadata": {
    "id": "X9HCKN_-FagN"
   },
   "outputs": [
    {
     "data": {
      "text/html": [
       "<div>\n",
       "<style scoped>\n",
       "    .dataframe tbody tr th:only-of-type {\n",
       "        vertical-align: middle;\n",
       "    }\n",
       "\n",
       "    .dataframe tbody tr th {\n",
       "        vertical-align: top;\n",
       "    }\n",
       "\n",
       "    .dataframe thead th {\n",
       "        text-align: right;\n",
       "    }\n",
       "</style>\n",
       "<table border=\"1\" class=\"dataframe\">\n",
       "  <thead>\n",
       "    <tr style=\"text-align: right;\">\n",
       "      <th></th>\n",
       "      <th>Unnamed: 0</th>\n",
       "      <th>Sequences</th>\n",
       "      <th>labels</th>\n",
       "    </tr>\n",
       "  </thead>\n",
       "  <tbody>\n",
       "    <tr>\n",
       "      <th>0</th>\n",
       "      <td>1</td>\n",
       "      <td>CCGAGGGCTATGGTTTGGAAGTTAGAACCCTGGGGCTTCTCGCGGA...</td>\n",
       "      <td>0</td>\n",
       "    </tr>\n",
       "    <tr>\n",
       "      <th>1</th>\n",
       "      <td>2</td>\n",
       "      <td>GAGTTTATATGGCGCGAGCCTAGTGGTTTTTGTACTTGTTTGTCGC...</td>\n",
       "      <td>0</td>\n",
       "    </tr>\n",
       "    <tr>\n",
       "      <th>2</th>\n",
       "      <td>3</td>\n",
       "      <td>GATCAGTAGGGAAACAAACAGAGGGCCCAGCCACATCTAGCAGGTA...</td>\n",
       "      <td>0</td>\n",
       "    </tr>\n",
       "    <tr>\n",
       "      <th>3</th>\n",
       "      <td>4</td>\n",
       "      <td>GTCCACGACCGAACTCCCACCTTGACCGCAGAGGTACCACCAGAGC...</td>\n",
       "      <td>1</td>\n",
       "    </tr>\n",
       "    <tr>\n",
       "      <th>4</th>\n",
       "      <td>5</td>\n",
       "      <td>GGCGACCGAACTCCAACTAGAACCTGCATAACTGGCCTGGGAGATA...</td>\n",
       "      <td>1</td>\n",
       "    </tr>\n",
       "  </tbody>\n",
       "</table>\n",
       "</div>"
      ],
      "text/plain": [
       "   Unnamed: 0                                          Sequences  labels\n",
       "0           1  CCGAGGGCTATGGTTTGGAAGTTAGAACCCTGGGGCTTCTCGCGGA...       0\n",
       "1           2  GAGTTTATATGGCGCGAGCCTAGTGGTTTTTGTACTTGTTTGTCGC...       0\n",
       "2           3  GATCAGTAGGGAAACAAACAGAGGGCCCAGCCACATCTAGCAGGTA...       0\n",
       "3           4  GTCCACGACCGAACTCCCACCTTGACCGCAGAGGTACCACCAGAGC...       1\n",
       "4           5  GGCGACCGAACTCCAACTAGAACCTGCATAACTGGCCTGGGAGATA...       1"
      ]
     },
     "execution_count": 3,
     "metadata": {},
     "output_type": "execute_result"
    }
   ],
   "source": [
    "# Brief look at the data\n",
    "df.head()"
   ]
  },
  {
   "cell_type": "code",
   "execution_count": 4,
   "metadata": {
    "id": "X9HCKN_-FagN"
   },
   "outputs": [],
   "source": [
    "sequences = df['Sequences']\n",
    "labels = df['labels']"
   ]
  },
  {
   "cell_type": "code",
   "execution_count": 5,
   "metadata": {
    "colab": {
     "base_uri": "https://localhost:8080/"
    },
    "id": "0x4_p9xIIPtv",
    "outputId": "96ea8263-6f7e-4df2-9a25-f5863ceb73eb"
   },
   "outputs": [
    {
     "name": "stdout",
     "output_type": "stream",
     "text": [
      "Example sequence\n",
      "-----------------------\n",
      "DNA Sequence #1:\n",
      " CCGAGGGCTA ... CGCGGACACC\n",
      "One-hot encoding of Sequence #1:\n",
      " [[0. 0. 0. ... 1. 0. 0.]\n",
      " [1. 1. 0. ... 0. 1. 1.]\n",
      " [0. 0. 1. ... 0. 0. 0.]\n",
      " [0. 0. 0. ... 0. 0. 0.]]\n"
     ]
    }
   ],
   "source": [
    "# use one-hot encoding to get each DNA sequence in the form of a matrix\n",
    "from sklearn.preprocessing import LabelEncoder, OneHotEncoder\n",
    "\n",
    "# The LabelEncoder encodes a sequence of bases as a sequence of integers.\n",
    "integer_encoder = LabelEncoder()\n",
    "# The OneHotEncoder converts an array of integers to a sparse matrix where\n",
    "# each row corresponds to one possible value of each feature.\n",
    "one_hot_encoder = OneHotEncoder(categories='auto')\n",
    "input_features = []\n",
    "\n",
    "for sequence in sequences:\n",
    "  integer_encoded = integer_encoder.fit_transform(list(sequence))\n",
    "  integer_encoded = np.array(integer_encoded).reshape(-1, 1)\n",
    "  one_hot_encoded = one_hot_encoder.fit_transform(integer_encoded)\n",
    "  input_features.append(one_hot_encoded.toarray())\n",
    "\n",
    "np.set_printoptions(threshold=40)\n",
    "input_features = np.stack(input_features)\n",
    "print(\"Example sequence\\n-----------------------\")\n",
    "print('DNA Sequence #1:\\n',sequences[0][:10],'...',sequences[0][-10:])\n",
    "print('One-hot encoding of Sequence #1:\\n',input_features[0].T)"
   ]
  },
  {
   "cell_type": "code",
   "execution_count": 6,
   "metadata": {
    "colab": {
     "base_uri": "https://localhost:8080/"
    },
    "id": "kHcIq-9xIqK1",
    "outputId": "abf86697-663e-4012-9e1d-ece91d48976d"
   },
   "outputs": [
    {
     "name": "stdout",
     "output_type": "stream",
     "text": [
      "Labels:\n",
      " [[0 0 0 ... 0 1 1]]\n",
      "One-hot encoded labels:\n",
      " [[1. 1. 1. ... 1. 0. 0.]\n",
      " [0. 0. 0. ... 0. 1. 1.]]\n"
     ]
    }
   ],
   "source": [
    "# use one-hot encoding to encode the labels -> assuming '0' if protein unbound, '1' if protein bound.\n",
    "one_hot_encoder = OneHotEncoder(categories='auto')\n",
    "labels = np.array(labels).reshape(-1, 1)\n",
    "input_labels = one_hot_encoder.fit_transform(labels).toarray()\n",
    "\n",
    "print('Labels:\\n',labels.T)\n",
    "print('One-hot encoded labels:\\n',input_labels.T)"
   ]
  },
  {
   "cell_type": "code",
   "execution_count": 7,
   "metadata": {
    "id": "f3dAw2uyQlHT"
   },
   "outputs": [],
   "source": [
    "# split the data into training and test sets\n",
    "# partition the training set into a training and validation set.\n",
    "from sklearn.model_selection import train_test_split\n",
    "\n",
    "train_features, test_features, train_labels, test_labels = train_test_split(\n",
    "    input_features, input_labels, test_size=0.25, random_state=42)"
   ]
  },
  {
   "cell_type": "code",
   "execution_count": 8,
   "metadata": {},
   "outputs": [
    {
     "name": "stdout",
     "output_type": "stream",
     "text": [
      "50\n"
     ]
    }
   ],
   "source": [
    "print(train_features.shape[1])"
   ]
  },
  {
   "cell_type": "markdown",
   "metadata": {
    "id": "gTqwLEhaTMrq"
   },
   "source": [
    "# Model Building and Evaluation"
   ]
  },
  {
   "cell_type": "markdown",
   "metadata": {
    "id": "7r_yPAHyR3PB"
   },
   "source": [
    "Build a model (preferably a deep learning classifier) to predict whether a particular sequence will bind to the protein and discover the short motif that is the binding site in the sequences that are bound to the protein."
   ]
  },
  {
   "cell_type": "code",
   "execution_count": 51,
   "metadata": {
    "id": "7r_yPAHyR3PB"
   },
   "outputs": [],
   "source": [
    "# First, load in tensorflow's Keras API for model building\n",
    "import tensorflow as tf\n",
    "from tensorflow.keras.models import Sequential # a simple sequential model is appropriate\n",
    "from tensorflow.keras.layers import Dense, Flatten, Conv1D, MaxPooling1D, Dropout # necessary for the layers I want in my network, more detail below.\n",
    "from keras.callbacks import EarlyStopping # for validation loss monitoring"
   ]
  },
  {
   "cell_type": "code",
   "execution_count": 35,
   "metadata": {},
   "outputs": [
    {
     "name": "stdout",
     "output_type": "stream",
     "text": [
      "labels\n",
      "0    50.65\n",
      "1    49.35\n",
      "Name: proportion, dtype: float64\n"
     ]
    }
   ],
   "source": [
    "# Check class balance in the raw data, as that will influence macro- or micro-averaging for accuracy, precision and recall measures.\n",
    "class_distribution = df['labels'].value_counts(normalize=True) * 100\n",
    "print(class_distribution)"
   ]
  },
  {
   "cell_type": "markdown",
   "metadata": {},
   "source": [
    "Given that this is a binary classification problem, the precision, recall, and accuracy measures will be nearly identical since the classes are balanced. As such, I will use the accuracy metric from keras rather than calculate accuracy, recall and precision manually."
   ]
  },
  {
   "cell_type": "code",
   "execution_count": 41,
   "metadata": {},
   "outputs": [],
   "source": [
    "# CNN would be appropriate for identifying relevant motif pattern(s) in DNA sequences, and from my understanding of the i4Health team they are very knowledgeable on the applications of CNNs on healthcare data\n",
    "# Dr. Daniel Quang gave an example of a hybrid CNN/RNN for DNA-Seq quantification, which I will base some hyperparameters on (see  https://doi.org/10.1093/nar/gkw226)\n",
    "def build_model(input_shape):\n",
    "    model = Sequential()\n",
    "    \n",
    "    # 1D convolutional layer as the first layer, for capturing motifs (patterns) in the sequences\n",
    "    model.add(Conv1D(filters=32, kernel_size=12, activation='relu', input_shape=input_shape)) \n",
    "\n",
    "    # Add 1D MaxPooling layer to downsample output from convolutional layer, preserving prominent features and removing less prominent ones, which increases computational efficiency and reduces risk of overfitting\n",
    "    model.add(MaxPooling1D(pool_size=4)) \n",
    "\n",
    "    # Regularize by randomly dropping one in five nodes (convolutional + MaxPooling layers as input) from each update cycle (see Srivastava, N., Hinton, G., Krizhevsky, A., Sutskever, I., & Salakhutdinov, R. (2014). Dropout: a simple way to prevent neural networks from overfitting. The journal of machine learning research, 15(1), 1929-1958.)\n",
    "    model.add(Dropout(0.2))\n",
    "\n",
    "    # Convert 2D input to 1D array before feeding into dense layer. More detail can be seen after model.summary() below.\n",
    "    model.add(Flatten())\n",
    "    \n",
    "    # Dense layer for integrating information from previous layers. \n",
    "    model.add(Dense(16, activation='relu')) # relu activation function is widely accepted as appropriate for a classification task like this\n",
    "    model.add(Dropout(0.5)) # more pruning with Dropout, before final output layer\n",
    "    \n",
    "    # Output layer that converts output scores from first dense layer into probabilities -> useful for interpreting the network's output as the probability distribution over the two classes: \"binds to the TF/protein\" vs. \"doesn't bind\".\n",
    "    model.add(Dense(2, activation='softmax')) \n",
    "\n",
    "    # Compile the model, using ADAM optimization model and categorical_crossentropy loss function based on keras documentation suggestion for probibalistic data with two label classes.\n",
    "    # In this example, using categorical_accuracy as an accuracy metric will yield identical results to using binary accuracy since it is a binary question of \"protein binds\"/\"doesn't bind\", but I felt the need to demonstrate my understanding of the categorical_accuracy metric's use for one-hot encoded data.\n",
    "    model.compile(optimizer='adam', loss='categorical_crossentropy', metrics=['categorical_accuracy'])\n",
    "\n",
    "    return model\n",
    "    "
   ]
  },
  {
   "cell_type": "code",
   "execution_count": 42,
   "metadata": {},
   "outputs": [],
   "source": [
    "def DNN_classifier():\n",
    "    input_shape = (train_features.shape[1], train_features.shape[2])\n",
    "    ml = build_model(input_shape)\n",
    "\n",
    "    # Epochs/batch_size are somewhat arbitrary here\n",
    "    # EarlyStopping callback will stop training once the validation loss hasn't improved for 5 epochs (patience=5), and restores the model weights from the epoch with the best validation loss.\n",
    "    early_stop = EarlyStopping(monitor='val_loss', patience=10, restore_best_weights=True)\n",
    "    \n",
    "    history = ml.fit(train_features, train_labels, epochs=50, validation_split=0.2, batch_size=32, verbose=1, callbacks=[early_stop])\n",
    "\n",
    "    return ml, history"
   ]
  },
  {
   "cell_type": "code",
   "execution_count": 43,
   "metadata": {},
   "outputs": [
    {
     "name": "stdout",
     "output_type": "stream",
     "text": [
      "Epoch 1/50\n",
      "38/38 [==============================] - 1s 7ms/step - loss: 0.6933 - categorical_accuracy: 0.5200 - val_loss: 0.6712 - val_categorical_accuracy: 0.6667\n",
      "Epoch 2/50\n",
      "38/38 [==============================] - 0s 3ms/step - loss: 0.6433 - categorical_accuracy: 0.6317 - val_loss: 0.5740 - val_categorical_accuracy: 0.8267\n",
      "Epoch 3/50\n",
      "38/38 [==============================] - 0s 3ms/step - loss: 0.5611 - categorical_accuracy: 0.7167 - val_loss: 0.4640 - val_categorical_accuracy: 0.8467\n",
      "Epoch 4/50\n",
      "38/38 [==============================] - 0s 3ms/step - loss: 0.4651 - categorical_accuracy: 0.7925 - val_loss: 0.3592 - val_categorical_accuracy: 0.8767\n",
      "Epoch 5/50\n",
      "38/38 [==============================] - 0s 3ms/step - loss: 0.3814 - categorical_accuracy: 0.8417 - val_loss: 0.2679 - val_categorical_accuracy: 0.9100\n",
      "Epoch 6/50\n",
      "38/38 [==============================] - 0s 3ms/step - loss: 0.3087 - categorical_accuracy: 0.8742 - val_loss: 0.2072 - val_categorical_accuracy: 0.9333\n",
      "Epoch 7/50\n",
      "38/38 [==============================] - 0s 3ms/step - loss: 0.2501 - categorical_accuracy: 0.9117 - val_loss: 0.1524 - val_categorical_accuracy: 0.9667\n",
      "Epoch 8/50\n",
      "38/38 [==============================] - 0s 3ms/step - loss: 0.1952 - categorical_accuracy: 0.9433 - val_loss: 0.1177 - val_categorical_accuracy: 0.9767\n",
      "Epoch 9/50\n",
      "38/38 [==============================] - 0s 3ms/step - loss: 0.1762 - categorical_accuracy: 0.9458 - val_loss: 0.1085 - val_categorical_accuracy: 0.9667\n",
      "Epoch 10/50\n",
      "38/38 [==============================] - 0s 3ms/step - loss: 0.1360 - categorical_accuracy: 0.9558 - val_loss: 0.1166 - val_categorical_accuracy: 0.9633\n",
      "Epoch 11/50\n",
      "38/38 [==============================] - 0s 3ms/step - loss: 0.1131 - categorical_accuracy: 0.9717 - val_loss: 0.0942 - val_categorical_accuracy: 0.9633\n",
      "Epoch 12/50\n",
      "38/38 [==============================] - 0s 4ms/step - loss: 0.1002 - categorical_accuracy: 0.9667 - val_loss: 0.1242 - val_categorical_accuracy: 0.9500\n",
      "Epoch 13/50\n",
      "38/38 [==============================] - 0s 3ms/step - loss: 0.0990 - categorical_accuracy: 0.9692 - val_loss: 0.0527 - val_categorical_accuracy: 0.9900\n",
      "Epoch 14/50\n",
      "38/38 [==============================] - 0s 3ms/step - loss: 0.0739 - categorical_accuracy: 0.9775 - val_loss: 0.0549 - val_categorical_accuracy: 0.9867\n",
      "Epoch 15/50\n",
      "38/38 [==============================] - 0s 3ms/step - loss: 0.0630 - categorical_accuracy: 0.9858 - val_loss: 0.0484 - val_categorical_accuracy: 0.9900\n",
      "Epoch 16/50\n",
      "38/38 [==============================] - 0s 3ms/step - loss: 0.0585 - categorical_accuracy: 0.9833 - val_loss: 0.0468 - val_categorical_accuracy: 0.9900\n",
      "Epoch 17/50\n",
      "38/38 [==============================] - 0s 3ms/step - loss: 0.0608 - categorical_accuracy: 0.9800 - val_loss: 0.0437 - val_categorical_accuracy: 0.9900\n",
      "Epoch 18/50\n",
      "38/38 [==============================] - 0s 3ms/step - loss: 0.0571 - categorical_accuracy: 0.9867 - val_loss: 0.0496 - val_categorical_accuracy: 0.9867\n",
      "Epoch 19/50\n",
      "38/38 [==============================] - 0s 3ms/step - loss: 0.0514 - categorical_accuracy: 0.9892 - val_loss: 0.0444 - val_categorical_accuracy: 0.9900\n",
      "Epoch 20/50\n",
      "38/38 [==============================] - 0s 3ms/step - loss: 0.0418 - categorical_accuracy: 0.9933 - val_loss: 0.0455 - val_categorical_accuracy: 0.9900\n",
      "Epoch 21/50\n",
      "38/38 [==============================] - 0s 4ms/step - loss: 0.0431 - categorical_accuracy: 0.9908 - val_loss: 0.0487 - val_categorical_accuracy: 0.9900\n",
      "Epoch 22/50\n",
      "38/38 [==============================] - 0s 3ms/step - loss: 0.0379 - categorical_accuracy: 0.9933 - val_loss: 0.0460 - val_categorical_accuracy: 0.9900\n",
      "Epoch 23/50\n",
      "38/38 [==============================] - 0s 3ms/step - loss: 0.0356 - categorical_accuracy: 0.9917 - val_loss: 0.0382 - val_categorical_accuracy: 0.9933\n",
      "Epoch 24/50\n",
      "38/38 [==============================] - 0s 3ms/step - loss: 0.0342 - categorical_accuracy: 0.9925 - val_loss: 0.0482 - val_categorical_accuracy: 0.9900\n",
      "Epoch 25/50\n",
      "38/38 [==============================] - 0s 3ms/step - loss: 0.0310 - categorical_accuracy: 0.9958 - val_loss: 0.0580 - val_categorical_accuracy: 0.9867\n",
      "Epoch 26/50\n",
      "38/38 [==============================] - 0s 3ms/step - loss: 0.0228 - categorical_accuracy: 0.9967 - val_loss: 0.0567 - val_categorical_accuracy: 0.9867\n",
      "Epoch 27/50\n",
      "38/38 [==============================] - 0s 3ms/step - loss: 0.0234 - categorical_accuracy: 0.9950 - val_loss: 0.0460 - val_categorical_accuracy: 0.9900\n",
      "Epoch 28/50\n",
      "38/38 [==============================] - 0s 3ms/step - loss: 0.0198 - categorical_accuracy: 0.9967 - val_loss: 0.0401 - val_categorical_accuracy: 0.9933\n",
      "Epoch 29/50\n",
      "38/38 [==============================] - 0s 3ms/step - loss: 0.0226 - categorical_accuracy: 0.9950 - val_loss: 0.0352 - val_categorical_accuracy: 0.9933\n",
      "Epoch 30/50\n",
      "38/38 [==============================] - 0s 3ms/step - loss: 0.0257 - categorical_accuracy: 0.9925 - val_loss: 0.0470 - val_categorical_accuracy: 0.9900\n",
      "Epoch 31/50\n",
      "38/38 [==============================] - 0s 3ms/step - loss: 0.0211 - categorical_accuracy: 0.9950 - val_loss: 0.0427 - val_categorical_accuracy: 0.9933\n",
      "Epoch 32/50\n",
      "38/38 [==============================] - 0s 3ms/step - loss: 0.0239 - categorical_accuracy: 0.9958 - val_loss: 0.0470 - val_categorical_accuracy: 0.9933\n",
      "Epoch 33/50\n",
      "38/38 [==============================] - 0s 3ms/step - loss: 0.0252 - categorical_accuracy: 0.9917 - val_loss: 0.0545 - val_categorical_accuracy: 0.9867\n",
      "Epoch 34/50\n",
      "38/38 [==============================] - 0s 3ms/step - loss: 0.0221 - categorical_accuracy: 0.9958 - val_loss: 0.0451 - val_categorical_accuracy: 0.9933\n",
      "Epoch 35/50\n",
      "38/38 [==============================] - 0s 3ms/step - loss: 0.0168 - categorical_accuracy: 0.9967 - val_loss: 0.0429 - val_categorical_accuracy: 0.9933\n",
      "Epoch 36/50\n",
      "38/38 [==============================] - 0s 3ms/step - loss: 0.0137 - categorical_accuracy: 0.9992 - val_loss: 0.0460 - val_categorical_accuracy: 0.9933\n",
      "Epoch 37/50\n",
      "38/38 [==============================] - 0s 3ms/step - loss: 0.0171 - categorical_accuracy: 0.9967 - val_loss: 0.0438 - val_categorical_accuracy: 0.9933\n",
      "Epoch 38/50\n",
      "38/38 [==============================] - 0s 3ms/step - loss: 0.0185 - categorical_accuracy: 0.9950 - val_loss: 0.0524 - val_categorical_accuracy: 0.9900\n",
      "Epoch 39/50\n",
      "38/38 [==============================] - 0s 4ms/step - loss: 0.0160 - categorical_accuracy: 0.9967 - val_loss: 0.0436 - val_categorical_accuracy: 0.9933\n"
     ]
    }
   ],
   "source": [
    "# Train the classifier, store model progress in \"history\"\n",
    "model, history = DNN_classifier()"
   ]
  },
  {
   "cell_type": "code",
   "execution_count": 44,
   "metadata": {},
   "outputs": [
    {
     "name": "stdout",
     "output_type": "stream",
     "text": [
      "Model: \"sequential_7\"\n",
      "_________________________________________________________________\n",
      " Layer (type)                Output Shape              Param #   \n",
      "=================================================================\n",
      " conv1d_7 (Conv1D)           (None, 39, 32)            1568      \n",
      "                                                                 \n",
      " max_pooling1d_7 (MaxPoolin  (None, 9, 32)             0         \n",
      " g1D)                                                            \n",
      "                                                                 \n",
      " dropout_14 (Dropout)        (None, 9, 32)             0         \n",
      "                                                                 \n",
      " flatten_7 (Flatten)         (None, 288)               0         \n",
      "                                                                 \n",
      " dense_14 (Dense)            (None, 16)                4624      \n",
      "                                                                 \n",
      " dropout_15 (Dropout)        (None, 16)                0         \n",
      "                                                                 \n",
      " dense_15 (Dense)            (None, 2)                 34        \n",
      "                                                                 \n",
      "=================================================================\n",
      "Total params: 6226 (24.32 KB)\n",
      "Trainable params: 6226 (24.32 KB)\n",
      "Non-trainable params: 0 (0.00 Byte)\n",
      "_________________________________________________________________\n"
     ]
    }
   ],
   "source": [
    "model.summary()"
   ]
  },
  {
   "cell_type": "code",
   "execution_count": 45,
   "metadata": {
    "id": "hXf70k8uSpc_"
   },
   "outputs": [
    {
     "data": {
      "text/plain": [
       "<matplotlib.legend.Legend at 0x1389ac150>"
      ]
     },
     "execution_count": 45,
     "metadata": {},
     "output_type": "execute_result"
    },
    {
     "data": {
      "image/png": "[encoded data removed]",
      "text/plain": [
       "<Figure size 1200x600 with 1 Axes>"
      ]
     },
     "metadata": {},
     "output_type": "display_data"
    }
   ],
   "source": [
    "# evaluate and report the performance of the model\n",
    "\n",
    "# First, get the accuracy data from \"history\"\n",
    "acc = history.history['categorical_accuracy']\n",
    "val_acc = history.history['val_categorical_accuracy']\n",
    "\n",
    "# Create epochs range\n",
    "epochs = range(1, len(acc) + 1)\n",
    "\n",
    "# Plot \"binary accuracy\" i.e. training and validation accuracy\n",
    "plt.figure(figsize=(12, 6))\n",
    "plt.plot(epochs, acc, 'b', label='Training accuracy')\n",
    "plt.plot(epochs, val_acc, 'r', label='Validation accuracy')\n",
    "plt.title('Training and validation accuracy')\n",
    "plt.xlabel('Epochs')\n",
    "plt.ylabel('Accuracy')\n",
    "plt.legend()"
   ]
  },
  {
   "cell_type": "markdown",
   "metadata": {},
   "source": [
    "Based on the above plot, the model reaches an accuracy plateau around epoch 20, and a peak accuracy consistently greater than 99.85%."
   ]
  },
  {
   "cell_type": "code",
   "execution_count": 46,
   "metadata": {
    "id": "hXf70k8uSpc_"
   },
   "outputs": [
    {
     "name": "stdout",
     "output_type": "stream",
     "text": [
      "16/16 [==============================] - 0s 1ms/step\n"
     ]
    },
    {
     "data": {
      "image/png": "[encoded data removed]",
      "text/plain": [
       "<Figure size 640x480 with 2 Axes>"
      ]
     },
     "metadata": {},
     "output_type": "display_data"
    }
   ],
   "source": [
    "#print (confusion matrix)\n",
    "from sklearn.metrics import confusion_matrix, ConfusionMatrixDisplay\n",
    "\n",
    "# Predict the binary labels using the model\n",
    "predictions = model.predict(test_features)\n",
    "\n",
    "# Convert from one-hot encoding to indices\n",
    "predicted_labels = np.argmax(predictions, axis=1) \n",
    "true_labels = np.argmax(test_labels, axis=1) \n",
    "\n",
    "# Generate the confusion matrix\n",
    "cm = confusion_matrix(true_labels, predicted_labels)\n",
    "\n",
    "disp = ConfusionMatrixDisplay(confusion_matrix=cm)\n",
    "\n",
    "disp.plot()\n",
    "plt.show()"
   ]
  },
  {
   "cell_type": "markdown",
   "metadata": {},
   "source": [
    "The model is quite accurate and precise, given that there are very few (if any) false positives and false negatives."
   ]
  },
  {
   "cell_type": "markdown",
   "metadata": {
    "id": "gHNW7XHUTRKa"
   },
   "source": [
    "# Visualization and Interpretation"
   ]
  },
  {
   "cell_type": "markdown",
   "metadata": {},
   "source": [
    "Generating a saliency map based on the method of [Lanchantin *et al.*](10.1142/9789813207813_0025)."
   ]
  },
  {
   "cell_type": "code",
   "execution_count": 71,
   "metadata": {},
   "outputs": [],
   "source": [
    "# compute a saliency map [the gradient of the model's prediction with respect to each individual nucleotide]\n",
    "# i.e. a weighted sum of the input nucleotides, where each \"weight\" indicates the influence of said nucleotide's position on the output score.\n",
    "\n",
    "#Select an Input Sequence\n",
    "seq_index = 0  # Just an example, choose any index\n",
    "input_seq = tf.convert_to_tensor(train_features[seq_index:seq_index+1]) # input_seq must be presented as an array to GradientTape()\n",
    "\n",
    "#Compute the Gradient\n",
    "def compute_saliency(model, data):\n",
    "\n",
    "    # set model to evaluation mode\n",
    "    model.trainable = False\n",
    "\n",
    "    with tf.GradientTape() as tape:\n",
    "        tape.watch(data)\n",
    "        predictions = model(data)\n",
    "        # Compute the saliency for the class with the highest score.\n",
    "        predicted_class = tf.argmax(predictions[0])\n",
    "        score = predictions[0][predicted_class]\n",
    "\n",
    "    # Compute the gradient\n",
    "    gradient = tape.gradient(score, data)\n",
    "\n",
    "    # Return the gradient\n",
    "    return gradient.numpy()\n",
    "\n",
    "#saliency_map = compute_saliency(model, input_seq)\n",
    "saliency_map = compute_saliency(model, input_seq)"
   ]
  },
  {
   "cell_type": "code",
   "execution_count": 72,
   "metadata": {},
   "outputs": [
    {
     "data": {
      "image/png": "[encoded data removed]",
      "text/plain": [
       "<Figure size 2000x400 with 2 Axes>"
      ]
     },
     "metadata": {},
     "output_type": "display_data"
    }
   ],
   "source": [
    "# Visualize\n",
    "plt.figure(figsize=(20, 4))\n",
    "plt.pcolor(saliency_map[0].T, cmap='viridis')\n",
    "plt.yticks([0.5, 1.5, 2.5, 3.5], ['A', 'T', 'C', 'G'])\n",
    "plt.colorbar()\n",
    "plt.title('Saliency Map')\n",
    "plt.show()"
   ]
  },
  {
   "cell_type": "markdown",
   "metadata": {},
   "source": [
    "In terms of interpreting the saliency map, high scores represent a nucleotide that is important for overall class prediction. The absolute saliency score of a nucleotide at a specific location is not as important, because it is relative to the range of saliency values for that nucleotide sequence."
   ]
  }
 ],
 "metadata": {
  "colab": {
   "provenance": []
  },
  "kernelspec": {
   "display_name": "Python (temp_env)",
   "language": "python",
   "name": "temp_env"
  },
  "language_info": {
   "codemirror_mode": {
    "name": "ipython",
    "version": 3
   },
   "file_extension": ".py",
   "mimetype": "text/x-python",
   "name": "python",
   "nbconvert_exporter": "python",
   "pygments_lexer": "ipython3",
   "version": "3.11.5"
  }
 },
 "nbformat": 4,
 "nbformat_minor": 4
}
